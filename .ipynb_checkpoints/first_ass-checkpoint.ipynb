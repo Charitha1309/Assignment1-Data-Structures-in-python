{
 "cells": [
  {
   "cell_type": "markdown",
   "id": "10c72c79-d734-453b-915a-f5734893d556",
   "metadata": {},
   "source": [
    "First Assignment"
   ]
  },
  {
   "cell_type": "code",
   "execution_count": 1,
   "id": "64a5cd51-4628-4a86-94a2-efd455e44f03",
   "metadata": {},
   "outputs": [
    {
     "data": {
      "text/plain": [
       "'ponmlkjihfedcba'"
      ]
     },
     "execution_count": 1,
     "metadata": {},
     "output_type": "execute_result"
    }
   ],
   "source": [
    "#1.Write code to reverse a string\n",
    "s = \"abcdefhijklmnop\"\n",
    "s=s[::-1]\n",
    "s"
   ]
  },
  {
   "cell_type": "code",
   "execution_count": 3,
   "id": "d2902f59-6eb4-4a18-acd0-c0a354088f73",
   "metadata": {},
   "outputs": [
    {
     "name": "stdout",
     "output_type": "stream",
     "text": [
      "7\n"
     ]
    }
   ],
   "source": [
    "# 2.Write a code to count the number of vowels in a string\n",
    "s = \"hi cherry how are you?\"\n",
    "vow = \"aeiouAEIOU\"\n",
    "def vowelcount(s):\n",
    "    c=0\n",
    "    for i in s:\n",
    "        if i in vow:\n",
    "            c=c+1\n",
    "    return c\n",
    "print(vowelcount(s))"
   ]
  },
  {
   "cell_type": "code",
   "execution_count": 4,
   "id": "440f3c62-f70c-4c51-81f9-158c32eb6f54",
   "metadata": {},
   "outputs": [
    {
     "name": "stdout",
     "output_type": "stream",
     "text": [
      "string is a palindrome\n"
     ]
    }
   ],
   "source": [
    "# 3.write a code to check if the given string is palindrome or not\n",
    "s = \"pop\"\n",
    "r = s[::-1]\n",
    "if(r==s):\n",
    "    print(\"string is a palindrome\")\n",
    "else:\n",
    "    print(\"string is not a palindrome\")"
   ]
  },
  {
   "cell_type": "code",
   "execution_count": 6,
   "id": "af51ad51-4910-49f0-9624-f15a8d23fde5",
   "metadata": {},
   "outputs": [
    {
     "name": "stdout",
     "output_type": "stream",
     "text": [
      " they are not anagrams\n"
     ]
    }
   ],
   "source": [
    "# 4.write a code to check if two  given strings are anagrams of each other or not\n",
    "s = [\"start\"]\n",
    "s2 = [\"taste\"]\n",
    "if(sorted(s)==sorted(s2)):\n",
    "    print(\"they are anagrams\")\n",
    "else:\n",
    "    print(\" they are not anagrams\")"
   ]
  },
  {
   "cell_type": "code",
   "execution_count": 7,
   "id": "059ff4ae-767c-48b0-9135-6897074c9274",
   "metadata": {},
   "outputs": [],
   "source": [
    "# 5.Write a code to find all occurrences of a given substring within another string.\n"
   ]
  },
  {
   "cell_type": "code",
   "execution_count": 18,
   "id": "095bf9f5-79f0-4ce4-8722-3197623ed7c7",
   "metadata": {},
   "outputs": [
    {
     "name": "stdout",
     "output_type": "stream",
     "text": [
      "a8f1\n"
     ]
    }
   ],
   "source": [
    "# 6.Write a code to perform basic string compression using the counts of repeated characters.\n",
    "s = \"aaaaaaaaf\"\n",
    "c=1\n",
    "s1 = \"\"\n",
    "for i in range(len(s)):\n",
    "    if( i<len(s)-1 and s[i]==s[i+1]):\n",
    "        c+=1\n",
    "    else:\n",
    "        s1+=s[i]+str(c)\n",
    "        c=1\n",
    "if len(s1)<len(s):\n",
    "    print(s1)\n",
    "else:\n",
    "    print(s)\n"
   ]
  },
  {
   "cell_type": "code",
   "execution_count": 24,
   "id": "9f75edc2-ea18-4d2f-a795-fbf470e0e400",
   "metadata": {},
   "outputs": [
    {
     "name": "stdout",
     "output_type": "stream",
     "text": [
      "given string 'sri charitha' dont have not unique characters\n"
     ]
    }
   ],
   "source": [
    "# 7. Write a code to determine if a string has all unique characters.\n",
    "s = \"sri charitha\"\n",
    "set1 = set(s)\n",
    "if len(set1)<len(s):\n",
    "    print(f\"given string '{s}' dont have not unique characters\")\n",
    "else:\n",
    "    print(f\"string  '{s}' have  unique characters unique\")"
   ]
  },
  {
   "cell_type": "code",
   "execution_count": 27,
   "id": "921d2ab0-e4cc-4dc6-ad73-f2ceed29bac3",
   "metadata": {},
   "outputs": [
    {
     "name": "stdout",
     "output_type": "stream",
     "text": [
      "SRI CHARITHA\n",
      "sri charitha\n"
     ]
    }
   ],
   "source": [
    "# 8. Write a code to convert a given string to uppercase or lowercase.\n",
    "s = \"sri Charitha\"\n",
    "print(s.upper())\n",
    "print(s.lower())"
   ]
  },
  {
   "cell_type": "code",
   "execution_count": 29,
   "id": "a422896d-e2e3-451a-93c1-392a10646531",
   "metadata": {},
   "outputs": [
    {
     "name": "stdout",
     "output_type": "stream",
     "text": [
      "5\n"
     ]
    }
   ],
   "source": [
    "# 9. Write a code to count the number of words in a string.\n",
    "s = \"hello everyone i am charitha\"\n",
    "print(len(s.split()))"
   ]
  },
  {
   "cell_type": "code",
   "execution_count": 31,
   "id": "840ad0b4-7de3-47ab-bfab-002714f49c1b",
   "metadata": {},
   "outputs": [
    {
     "name": "stdout",
     "output_type": "stream",
     "text": [
      "sri charitha\n"
     ]
    }
   ],
   "source": [
    "# 10.Write a code to concatenate two strings without using the + operator.\n",
    "s = \"sri\"\n",
    "s1= \"charitha\"\n",
    "separator = \" \"\n",
    "s2 = separator.join([s,s1])\n",
    "print(s2)"
   ]
  },
  {
   "cell_type": "code",
   "execution_count": 38,
   "id": "cefd5b07-c15c-4ab7-bd7a-83dafd316aae",
   "metadata": {},
   "outputs": [
    {
     "name": "stdout",
     "output_type": "stream",
     "text": [
      "[1, 2, 3, 4, 5, 7, 8, 9, 4, 5]\n"
     ]
    }
   ],
   "source": [
    "# 11.Write a code to remove all occurrences of a specific element from a list.\n",
    "def remove(s,ele):\n",
    "    return (i for i in s if i!=ele)\n",
    "s = [1,2,3,4,5,6,6,7,6,8,9,6,4,5]\n",
    "ele = 6\n",
    "lis = []\n",
    "lis +=remove(s,ele)\n",
    "print(lis)"
   ]
  },
  {
   "cell_type": "code",
   "execution_count": 42,
   "id": "e286ba79-d8d5-4226-ac1d-46201a47053e",
   "metadata": {},
   "outputs": [
    {
     "data": {
      "text/plain": [
       "3456"
      ]
     },
     "execution_count": 42,
     "metadata": {},
     "output_type": "execute_result"
    }
   ],
   "source": [
    "# 12.Implement a code to find the second largest number in a given list of integers.\n",
    "s = [23,45,67,87,65,43,12,345,321,3456,7890]\n",
    "s.sort(reverse=1)\n",
    "s[1]"
   ]
  },
  {
   "cell_type": "code",
   "execution_count": 43,
   "id": "3cc343fd-7f67-44bf-a02a-737c33ffa5bd",
   "metadata": {},
   "outputs": [
    {
     "name": "stdout",
     "output_type": "stream",
     "text": [
      "{1: 1, 2: 1, 3: 2, 4: 1, 5: 3, 6: 2, 7: 3, 8: 1}\n"
     ]
    }
   ],
   "source": [
    "# 13.Create a code to count the occurrences of each element in a list and return a dictionary with elements as keys and their counts as values.\n",
    "lis = [1,2,3,4,6,7,5,7,8,5,3,5,6,7]\n",
    "list1 = {i:lis.count(i) for i in set(lis)}\n",
    "print(list1)"
   ]
  },
  {
   "cell_type": "code",
   "execution_count": 44,
   "id": "4196b99a-cad3-4436-8d9e-36106def203b",
   "metadata": {},
   "outputs": [
    {
     "name": "stdout",
     "output_type": "stream",
     "text": [
      "[7, 6, 5, 4, 3, 2, 1]\n"
     ]
    }
   ],
   "source": [
    "#14.Write a code to reverse a list in-place without using any built-in reverse functions.\n",
    "lis = [1,2,3,4,5,6,7]\n",
    "n = len(lis)\n",
    "for i in range(n//2):\n",
    "    lis[i],lis[n-i-1]=lis[n-i-1],lis[i]\n",
    "print(lis)"
   ]
  },
  {
   "cell_type": "code",
   "execution_count": 47,
   "id": "13572e52-8ba8-4dfe-814e-c470f192f968",
   "metadata": {},
   "outputs": [
    {
     "data": {
      "text/plain": [
       "{11, 23, 34, 55, 56, 77, 89}"
      ]
     },
     "execution_count": 47,
     "metadata": {},
     "output_type": "execute_result"
    }
   ],
   "source": [
    "# 15.Implement a code to find and remove duplicates from a list while preserving the original order of elements.\n",
    "lis = [11,11,11,23,34,55,77,77,77,89,56]\n",
    "lis=set(lis)\n",
    "lis"
   ]
  },
  {
   "cell_type": "code",
   "execution_count": 49,
   "id": "5aa3beed-133c-4506-b877-b9c1bce83581",
   "metadata": {},
   "outputs": [
    {
     "name": "stdout",
     "output_type": "stream",
     "text": [
      "The list [1, 4, 33, 45, 56, 67, 78, 98] is not sorted\n"
     ]
    }
   ],
   "source": [
    "# 16.Create a code to check if a given list is sorted (either in ascending or descending order) or not.\n",
    "lis = [1,4,56,78,33,98,67,45]\n",
    "if lis==lis.sort():\n",
    "    print(f\"list {lis} is sorted\")\n",
    "else:\n",
    "    print(f\"The list {lis} is not sorted\")"
   ]
  },
  {
   "cell_type": "code",
   "execution_count": 54,
   "id": "106abfa2-4e6f-4f50-a088-6f6f8f3cc208",
   "metadata": {},
   "outputs": [
    {
     "data": {
      "text/plain": [
       "[3, 7, 8, 9, 23, 32, 34, 43, 45, 54, 56, 65, 67, 76, 87]"
      ]
     },
     "execution_count": 54,
     "metadata": {},
     "output_type": "execute_result"
    }
   ],
   "source": [
    "# 17.Write a code to merge two sorted lists into a single sorted list.\n",
    "lis = [23,45,67,87,65,3,8,9,7]\n",
    "lis1 = [34,54,56,76,43,32]\n",
    "lis2=lis+lis1\n",
    "lis2.sort()\n",
    "lis2"
   ]
  },
  {
   "cell_type": "code",
   "execution_count": 56,
   "id": "e6a5982f-f57b-461b-87d9-4b38ccc13e5f",
   "metadata": {},
   "outputs": [
    {
     "name": "stdout",
     "output_type": "stream",
     "text": [
      "[1, 3, 5]\n"
     ]
    }
   ],
   "source": [
    "#18.Implement a code to find the intersection of two given lists.\n",
    "lis1 = [1,2,3,4,5]\n",
    "lis2= [1,3,5,6,7]\n",
    "lis3 = set(lis1) & set(lis2)\n",
    "print(list(lis3))"
   ]
  },
  {
   "cell_type": "code",
   "execution_count": 57,
   "id": "eb7602e6-37a8-4618-b7bd-21acf1bc96fe",
   "metadata": {},
   "outputs": [
    {
     "name": "stdout",
     "output_type": "stream",
     "text": [
      "[1, 2, 3, 4, 5, 6, 7]\n"
     ]
    }
   ],
   "source": [
    "#19. Create a code to find the union of two lists without duplicates.\n",
    "lis1=[1,2,3,4,5]\n",
    "lis2=[1,3,5,6,7]\n",
    "lis3 = set(lis1) | set(lis2)\n",
    "print(list(lis3))"
   ]
  },
  {
   "cell_type": "code",
   "execution_count": 1,
   "id": "283f73a4-4dff-4636-9db6-8980773de1bd",
   "metadata": {},
   "outputs": [],
   "source": [
    "#20.Write a code to shuffle a given list randomly without using any built-in shuffle functions.\n"
   ]
  },
  {
   "cell_type": "code",
   "execution_count": 16,
   "id": "3523d926-3750-43da-9290-dd8044190be3",
   "metadata": {},
   "outputs": [
    {
     "name": "stdin",
     "output_type": "stream",
     "text": [
      "enter tuple one 1,2,3\n",
      "enter tuple two 3,2,5\n"
     ]
    },
    {
     "name": "stdout",
     "output_type": "stream",
     "text": [
      "(2, 3)\n"
     ]
    }
   ],
   "source": [
    "# 21.Write a code that takes two tuples as input and returns a new tuple containing elements that are common to both input tuples.\n",
    "t1 = input('enter tuple one')\n",
    "t2 = input('enter tuple two')\n",
    "t1 = eval(t1)\n",
    "t2 = eval(t2)\n",
    "result = tuple( set(t1) & set(t2) )\n",
    "print(result)"
   ]
  },
  {
   "cell_type": "code",
   "execution_count": 9,
   "id": "ea872bbd-2096-4393-9c83-6514d4ff7d99",
   "metadata": {},
   "outputs": [
    {
     "name": "stdin",
     "output_type": "stream",
     "text": [
      "Enter the first set of integers separated by commas:  1,2,3,4,5,6\n",
      "Enter the second set of integers separated by commas:  3,4,5,6,7,8\n"
     ]
    },
    {
     "name": "stdout",
     "output_type": "stream",
     "text": [
      "Intersection of the two sets: {3, 4, 5, 6}\n"
     ]
    }
   ],
   "source": [
    "# 22.Create a code that prompts the user to enter two sets of integers separated by commas. Then, print the intersection of these two sets.\n",
    "set1_input = input(\"Enter the first set of integers separated by commas: \")\n",
    "set1 = set(map(int, set1_input.split(',')))\n",
    "set2_input = input(\"Enter the second set of integers separated by commas: \")\n",
    "set2 = set(map(int, set2_input.split(',')))\n",
    "intersection = set1.intersection(set2)\n",
    "print(\"Intersection of the two sets:\", intersection)"
   ]
  },
  {
   "cell_type": "code",
   "execution_count": 14,
   "id": "1c51a0fd-8d71-4501-bcd6-8b136c748832",
   "metadata": {},
   "outputs": [
    {
     "name": "stdin",
     "output_type": "stream",
     "text": [
      "enter tuple one 1,2,34\n",
      "enter tuple two 5,6,7\n"
     ]
    },
    {
     "data": {
      "text/plain": [
       "(1, 2, 34, 5, 6, 7)"
      ]
     },
     "execution_count": 14,
     "metadata": {},
     "output_type": "execute_result"
    }
   ],
   "source": [
    "# 23.Write a code to concatenate two tuples. The function should take two tuples as input and return a new tuple containing elements from both input tuples.\n",
    "t1 = input('enter tuple one')\n",
    "t2 = input('enter tuple two')\n",
    "t1 = eval(t1)\n",
    "t2 = eval(t2)\n",
    "t = (t1+t2)\n",
    "t"
   ]
  },
  {
   "cell_type": "code",
   "execution_count": 17,
   "id": "da4639f0-cdd2-41d5-8296-fa7e985bbfb7",
   "metadata": {},
   "outputs": [
    {
     "name": "stdin",
     "output_type": "stream",
     "text": [
      "Enter the first set of strings separated by commas:  banana,apple,cherry,strawberry\n",
      "Enter the second set of strings separated by commas:  banana,apple,strawberry\n"
     ]
    },
    {
     "data": {
      "text/plain": [
       "{'cherry'}"
      ]
     },
     "execution_count": 17,
     "metadata": {},
     "output_type": "execute_result"
    }
   ],
   "source": [
    "# 24.Develop a code that prompts the user to input two sets of strings. Then, print the elements that are present in the first set but not in the second set.\n",
    "set1_input = input(\"Enter the first set of strings separated by commas: \")\n",
    "set1 = set(set1_input.split(','))\n",
    "set2_input = input(\"Enter the second set of strings separated by commas: \")\n",
    "set2 = set(set2_input.split(','))\n",
    "difference = set1 - set2\n",
    "difference"
   ]
  },
  {
   "cell_type": "code",
   "execution_count": 20,
   "id": "45771aa8-b03d-4c52-af1b-e126d2cbeec5",
   "metadata": {},
   "outputs": [
    {
     "data": {
      "text/plain": [
       "(4, 5, 6, 7, 8, 9)"
      ]
     },
     "execution_count": 20,
     "metadata": {},
     "output_type": "execute_result"
    }
   ],
   "source": [
    "# 25.Create a code that takes a tuple and two integers as input. The function should return a new tuple containing elements from the original tuple within the specified range of indices.\n",
    "def specified_range(t1,start,end):\n",
    " if start < 0 or end >= len(t1) or start>end:\n",
    "    return None\n",
    " else:\n",
    "        t2=t1[start:end+1]\n",
    " return t2\n",
    "t1=(1,2,3,4,5,6,7,8,9)\n",
    "start=3\n",
    "end=8\n",
    "result=specified_range(t1,start,end)\n",
    "result"
   ]
  },
  {
   "cell_type": "code",
   "execution_count": null,
   "id": "c3a564df-862e-486a-8dbe-7e87ba3de6bb",
   "metadata": {},
   "outputs": [],
   "source": [
    "# 26."
   ]
  }
 ],
 "metadata": {
  "kernelspec": {
   "display_name": "Python 3 (ipykernel)",
   "language": "python",
   "name": "python3"
  },
  "language_info": {
   "codemirror_mode": {
    "name": "ipython",
    "version": 3
   },
   "file_extension": ".py",
   "mimetype": "text/x-python",
   "name": "python",
   "nbconvert_exporter": "python",
   "pygments_lexer": "ipython3",
   "version": "3.10.8"
  }
 },
 "nbformat": 4,
 "nbformat_minor": 5
}
